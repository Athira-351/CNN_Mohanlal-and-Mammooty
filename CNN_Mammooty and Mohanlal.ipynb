{
  "nbformat": 4,
  "nbformat_minor": 0,
  "metadata": {
    "colab": {
      "provenance": []
    },
    "kernelspec": {
      "name": "python3",
      "display_name": "Python 3"
    },
    "language_info": {
      "name": "python"
    }
  },
  "cells": [
    {
      "cell_type": "markdown",
      "source": [
        "## **Data Preprocessing**"
      ],
      "metadata": {
        "id": "ix7R-wfTuTGR"
      }
    },
    {
      "cell_type": "code",
      "execution_count": null,
      "metadata": {
        "id": "KeGhWHXbdsue"
      },
      "outputs": [],
      "source": [
        "import numpy as np\n",
        "import cv2 as cv\n",
        "import random\n",
        "import os\n",
        "import matplotlib.pyplot as plt\n",
        "import pickle\n",
        "%matplotlib inline\n",
        "import pandas"
      ]
    },
    {
      "cell_type": "code",
      "source": [
        "DIRECTORY = '/content/drive/MyDrive/dataset'\n",
        "# a raw string(r'...') is used to treat backslash(\\) as a normal character\n",
        "CATEGORIES = ['mammooty','mohanlal']"
      ],
      "metadata": {
        "id": "ORRGvJHtdw7x"
      },
      "execution_count": null,
      "outputs": []
    },
    {
      "cell_type": "code",
      "source": [
        "IMG_SIZE = 224\n",
        "\n",
        "data = []\n",
        "\n",
        "for category in CATEGORIES:\n",
        "    folder = os.path.join(DIRECTORY, category)\n",
        "    for img in os.listdir(folder):\n",
        "        img_path = os.path.join(folder, img)\n",
        "        label = CATEGORIES.index(category)\n",
        "        img_arr = cv.imread(img_path, cv.IMREAD_GRAYSCALE)\n",
        "        img_arr = cv.resize(img_arr, (IMG_SIZE, IMG_SIZE))\n",
        "        data.append([img_arr, label])\n",
        "# labelling the data\n"
      ],
      "metadata": {
        "id": "U67BbQM0t0wK"
      },
      "execution_count": null,
      "outputs": []
    },
    {
      "cell_type": "code",
      "source": [
        "random.shuffle(data)\n",
        "# to shuffle the data"
      ],
      "metadata": {
        "id": "YBs_8FjXeOt-"
      },
      "execution_count": null,
      "outputs": []
    },
    {
      "cell_type": "code",
      "source": [
        "X = []\n",
        "y = []\n",
        "\n",
        "for features, labels in data:\n",
        "    X.append(features)\n",
        "    y.append(labels)"
      ],
      "metadata": {
        "id": "eTklCM2Fe0t2"
      },
      "execution_count": null,
      "outputs": []
    },
    {
      "cell_type": "code",
      "source": [
        "X = np.array(X)\n",
        "y = np.array(y)\n",
        "# changed X & y into arrays and stored it in respective variables"
      ],
      "metadata": {
        "id": "MrunJu64e0wf"
      },
      "execution_count": null,
      "outputs": []
    },
    {
      "cell_type": "code",
      "source": [
        "X"
      ],
      "metadata": {
        "colab": {
          "base_uri": "https://localhost:8080/"
        },
        "id": "-gg6k1jxe0zP",
        "outputId": "66b72d69-b7bd-4248-8872-29f515296096"
      },
      "execution_count": null,
      "outputs": [
        {
          "output_type": "execute_result",
          "data": {
            "text/plain": [
              "array([[[ 18,  18,  17, ...,  36,  31,  31],\n",
              "        [ 18,  18,  17, ...,  36,  31,  31],\n",
              "        [ 17,  17,  16, ...,  37,  34,  34],\n",
              "        ...,\n",
              "        [ 61,  61,  66, ..., 196, 195, 195],\n",
              "        [ 60,  60,  66, ..., 193, 193, 193],\n",
              "        [ 60,  60,  66, ..., 193, 193, 193]],\n",
              "\n",
              "       [[ 24,  24,  24, ...,  26,  24,  23],\n",
              "        [ 25,  25,  25, ...,  25,  23,  23],\n",
              "        [ 28,  27,  27, ...,  24,  22,  22],\n",
              "        ...,\n",
              "        [ 89,  89,  89, ...,  36,  38,  38],\n",
              "        [ 90,  90,  89, ...,  35,  37,  37],\n",
              "        [ 90,  90,  89, ...,  35,  37,  37]],\n",
              "\n",
              "       [[109, 110, 113, ...,  38,  44,  45],\n",
              "        [112, 113, 117, ...,  37,  43,  44],\n",
              "        [131, 132, 138, ...,  35,  39,  40],\n",
              "        ...,\n",
              "        [129, 129, 129, ...,  99, 101, 101],\n",
              "        [129, 129, 129, ...,  98,  99,  99],\n",
              "        [129, 129, 129, ...,  99,  99,  99]],\n",
              "\n",
              "       ...,\n",
              "\n",
              "       [[130, 131, 134, ..., 233, 233, 233],\n",
              "        [131, 131, 133, ..., 233, 233, 233],\n",
              "        [133, 132, 131, ..., 233, 232, 232],\n",
              "        ...,\n",
              "        [ 30,  35,  48, ..., 201, 199, 199],\n",
              "        [ 32,  36,  45, ..., 201, 199, 198],\n",
              "        [ 33,  36,  44, ..., 201, 199, 198]],\n",
              "\n",
              "       [[ 23,  22,  20, ..., 153, 153, 153],\n",
              "        [ 23,  22,  20, ..., 153, 153, 153],\n",
              "        [ 23,  22,  20, ..., 154, 153, 153],\n",
              "        ...,\n",
              "        [177, 177, 177, ..., 189, 190, 190],\n",
              "        [178, 178, 178, ..., 189, 190, 191],\n",
              "        [178, 178, 178, ..., 189, 190, 191]],\n",
              "\n",
              "       [[ 36,  35,  32, ...,  88,  80,  77],\n",
              "        [ 36,  35,  32, ...,  91,  84,  82],\n",
              "        [ 35,  34,  32, ..., 102,  98,  97],\n",
              "        ...,\n",
              "        [ 66,  66,  65, ..., 231, 231, 230],\n",
              "        [ 66,  66,  65, ..., 231, 230, 230],\n",
              "        [ 66,  66,  65, ..., 230, 230, 230]]], dtype=uint8)"
            ]
          },
          "metadata": {},
          "execution_count": 7
        }
      ]
    },
    {
      "cell_type": "code",
      "source": [
        "y"
      ],
      "metadata": {
        "colab": {
          "base_uri": "https://localhost:8080/"
        },
        "id": "jnWzdv40e03C",
        "outputId": "3f48540a-4fc0-4771-9ef2-53b29ddbacdf"
      },
      "execution_count": null,
      "outputs": [
        {
          "output_type": "execute_result",
          "data": {
            "text/plain": [
              "array([0, 1, 0, ..., 1, 1, 1])"
            ]
          },
          "metadata": {},
          "execution_count": 8
        }
      ]
    },
    {
      "cell_type": "code",
      "source": [
        "X = pickle.dump(X,open('X.pkl', 'wb'))\n",
        "y = pickle.dump(y,open('y.pkl', 'wb'))\n",
        "\n",
        "# storing the data in a pickle file"
      ],
      "metadata": {
        "id": "tcZcknqXfIX0"
      },
      "execution_count": null,
      "outputs": []
    },
    {
      "cell_type": "markdown",
      "source": [
        "## **Building the CNN**"
      ],
      "metadata": {
        "id": "LvRiUcJguPt4"
      }
    },
    {
      "cell_type": "code",
      "source": [
        "import pickle"
      ],
      "metadata": {
        "id": "j4BioH6TfIfO"
      },
      "execution_count": null,
      "outputs": []
    },
    {
      "cell_type": "code",
      "source": [
        "X = pickle.load(open('X.pkl', 'rb'))\n",
        "y = pickle.load(open('y.pkl', 'rb'))"
      ],
      "metadata": {
        "id": "P-fqTyslfIhy"
      },
      "execution_count": null,
      "outputs": []
    },
    {
      "cell_type": "code",
      "source": [
        "X"
      ],
      "metadata": {
        "colab": {
          "base_uri": "https://localhost:8080/"
        },
        "id": "iIsdi6_bfIke",
        "outputId": "b47ced16-6a27-4be2-9309-a358c0cd9418"
      },
      "execution_count": null,
      "outputs": [
        {
          "output_type": "execute_result",
          "data": {
            "text/plain": [
              "array([[[ 18,  18,  17, ...,  36,  31,  31],\n",
              "        [ 18,  18,  17, ...,  36,  31,  31],\n",
              "        [ 17,  17,  16, ...,  37,  34,  34],\n",
              "        ...,\n",
              "        [ 61,  61,  66, ..., 196, 195, 195],\n",
              "        [ 60,  60,  66, ..., 193, 193, 193],\n",
              "        [ 60,  60,  66, ..., 193, 193, 193]],\n",
              "\n",
              "       [[ 24,  24,  24, ...,  26,  24,  23],\n",
              "        [ 25,  25,  25, ...,  25,  23,  23],\n",
              "        [ 28,  27,  27, ...,  24,  22,  22],\n",
              "        ...,\n",
              "        [ 89,  89,  89, ...,  36,  38,  38],\n",
              "        [ 90,  90,  89, ...,  35,  37,  37],\n",
              "        [ 90,  90,  89, ...,  35,  37,  37]],\n",
              "\n",
              "       [[109, 110, 113, ...,  38,  44,  45],\n",
              "        [112, 113, 117, ...,  37,  43,  44],\n",
              "        [131, 132, 138, ...,  35,  39,  40],\n",
              "        ...,\n",
              "        [129, 129, 129, ...,  99, 101, 101],\n",
              "        [129, 129, 129, ...,  98,  99,  99],\n",
              "        [129, 129, 129, ...,  99,  99,  99]],\n",
              "\n",
              "       ...,\n",
              "\n",
              "       [[130, 131, 134, ..., 233, 233, 233],\n",
              "        [131, 131, 133, ..., 233, 233, 233],\n",
              "        [133, 132, 131, ..., 233, 232, 232],\n",
              "        ...,\n",
              "        [ 30,  35,  48, ..., 201, 199, 199],\n",
              "        [ 32,  36,  45, ..., 201, 199, 198],\n",
              "        [ 33,  36,  44, ..., 201, 199, 198]],\n",
              "\n",
              "       [[ 23,  22,  20, ..., 153, 153, 153],\n",
              "        [ 23,  22,  20, ..., 153, 153, 153],\n",
              "        [ 23,  22,  20, ..., 154, 153, 153],\n",
              "        ...,\n",
              "        [177, 177, 177, ..., 189, 190, 190],\n",
              "        [178, 178, 178, ..., 189, 190, 191],\n",
              "        [178, 178, 178, ..., 189, 190, 191]],\n",
              "\n",
              "       [[ 36,  35,  32, ...,  88,  80,  77],\n",
              "        [ 36,  35,  32, ...,  91,  84,  82],\n",
              "        [ 35,  34,  32, ..., 102,  98,  97],\n",
              "        ...,\n",
              "        [ 66,  66,  65, ..., 231, 231, 230],\n",
              "        [ 66,  66,  65, ..., 231, 230, 230],\n",
              "        [ 66,  66,  65, ..., 230, 230, 230]]], dtype=uint8)"
            ]
          },
          "metadata": {},
          "execution_count": 12
        }
      ]
    },
    {
      "cell_type": "code",
      "source": [
        "y"
      ],
      "metadata": {
        "colab": {
          "base_uri": "https://localhost:8080/"
        },
        "id": "dDVGQSghvOez",
        "outputId": "309dd20e-0853-484d-fad5-20c656a1ec54"
      },
      "execution_count": null,
      "outputs": [
        {
          "output_type": "execute_result",
          "data": {
            "text/plain": [
              "array([1, 1, 1, ..., 1, 1, 1])"
            ]
          },
          "metadata": {},
          "execution_count": 13
        }
      ]
    },
    {
      "cell_type": "code",
      "source": [
        "X = X/255"
      ],
      "metadata": {
        "id": "EoMYRd28vOh2"
      },
      "execution_count": null,
      "outputs": []
    },
    {
      "cell_type": "code",
      "source": [
        "X"
      ],
      "metadata": {
        "id": "PZLbryrtvOle",
        "colab": {
          "base_uri": "https://localhost:8080/"
        },
        "outputId": "e090c6db-4dbb-4a2e-f513-acae7a7b3be7"
      },
      "execution_count": null,
      "outputs": [
        {
          "output_type": "execute_result",
          "data": {
            "text/plain": [
              "array([[[0.07058824, 0.07058824, 0.06666667, ..., 0.14117647,\n",
              "         0.12156863, 0.12156863],\n",
              "        [0.07058824, 0.07058824, 0.06666667, ..., 0.14117647,\n",
              "         0.12156863, 0.12156863],\n",
              "        [0.06666667, 0.06666667, 0.0627451 , ..., 0.14509804,\n",
              "         0.13333333, 0.13333333],\n",
              "        ...,\n",
              "        [0.23921569, 0.23921569, 0.25882353, ..., 0.76862745,\n",
              "         0.76470588, 0.76470588],\n",
              "        [0.23529412, 0.23529412, 0.25882353, ..., 0.75686275,\n",
              "         0.75686275, 0.75686275],\n",
              "        [0.23529412, 0.23529412, 0.25882353, ..., 0.75686275,\n",
              "         0.75686275, 0.75686275]],\n",
              "\n",
              "       [[0.09411765, 0.09411765, 0.09411765, ..., 0.10196078,\n",
              "         0.09411765, 0.09019608],\n",
              "        [0.09803922, 0.09803922, 0.09803922, ..., 0.09803922,\n",
              "         0.09019608, 0.09019608],\n",
              "        [0.10980392, 0.10588235, 0.10588235, ..., 0.09411765,\n",
              "         0.08627451, 0.08627451],\n",
              "        ...,\n",
              "        [0.34901961, 0.34901961, 0.34901961, ..., 0.14117647,\n",
              "         0.14901961, 0.14901961],\n",
              "        [0.35294118, 0.35294118, 0.34901961, ..., 0.1372549 ,\n",
              "         0.14509804, 0.14509804],\n",
              "        [0.35294118, 0.35294118, 0.34901961, ..., 0.1372549 ,\n",
              "         0.14509804, 0.14509804]],\n",
              "\n",
              "       [[0.42745098, 0.43137255, 0.44313725, ..., 0.14901961,\n",
              "         0.17254902, 0.17647059],\n",
              "        [0.43921569, 0.44313725, 0.45882353, ..., 0.14509804,\n",
              "         0.16862745, 0.17254902],\n",
              "        [0.51372549, 0.51764706, 0.54117647, ..., 0.1372549 ,\n",
              "         0.15294118, 0.15686275],\n",
              "        ...,\n",
              "        [0.50588235, 0.50588235, 0.50588235, ..., 0.38823529,\n",
              "         0.39607843, 0.39607843],\n",
              "        [0.50588235, 0.50588235, 0.50588235, ..., 0.38431373,\n",
              "         0.38823529, 0.38823529],\n",
              "        [0.50588235, 0.50588235, 0.50588235, ..., 0.38823529,\n",
              "         0.38823529, 0.38823529]],\n",
              "\n",
              "       ...,\n",
              "\n",
              "       [[0.50980392, 0.51372549, 0.5254902 , ..., 0.91372549,\n",
              "         0.91372549, 0.91372549],\n",
              "        [0.51372549, 0.51372549, 0.52156863, ..., 0.91372549,\n",
              "         0.91372549, 0.91372549],\n",
              "        [0.52156863, 0.51764706, 0.51372549, ..., 0.91372549,\n",
              "         0.90980392, 0.90980392],\n",
              "        ...,\n",
              "        [0.11764706, 0.1372549 , 0.18823529, ..., 0.78823529,\n",
              "         0.78039216, 0.78039216],\n",
              "        [0.1254902 , 0.14117647, 0.17647059, ..., 0.78823529,\n",
              "         0.78039216, 0.77647059],\n",
              "        [0.12941176, 0.14117647, 0.17254902, ..., 0.78823529,\n",
              "         0.78039216, 0.77647059]],\n",
              "\n",
              "       [[0.09019608, 0.08627451, 0.07843137, ..., 0.6       ,\n",
              "         0.6       , 0.6       ],\n",
              "        [0.09019608, 0.08627451, 0.07843137, ..., 0.6       ,\n",
              "         0.6       , 0.6       ],\n",
              "        [0.09019608, 0.08627451, 0.07843137, ..., 0.60392157,\n",
              "         0.6       , 0.6       ],\n",
              "        ...,\n",
              "        [0.69411765, 0.69411765, 0.69411765, ..., 0.74117647,\n",
              "         0.74509804, 0.74509804],\n",
              "        [0.69803922, 0.69803922, 0.69803922, ..., 0.74117647,\n",
              "         0.74509804, 0.74901961],\n",
              "        [0.69803922, 0.69803922, 0.69803922, ..., 0.74117647,\n",
              "         0.74509804, 0.74901961]],\n",
              "\n",
              "       [[0.14117647, 0.1372549 , 0.1254902 , ..., 0.34509804,\n",
              "         0.31372549, 0.30196078],\n",
              "        [0.14117647, 0.1372549 , 0.1254902 , ..., 0.35686275,\n",
              "         0.32941176, 0.32156863],\n",
              "        [0.1372549 , 0.13333333, 0.1254902 , ..., 0.4       ,\n",
              "         0.38431373, 0.38039216],\n",
              "        ...,\n",
              "        [0.25882353, 0.25882353, 0.25490196, ..., 0.90588235,\n",
              "         0.90588235, 0.90196078],\n",
              "        [0.25882353, 0.25882353, 0.25490196, ..., 0.90588235,\n",
              "         0.90196078, 0.90196078],\n",
              "        [0.25882353, 0.25882353, 0.25490196, ..., 0.90196078,\n",
              "         0.90196078, 0.90196078]]])"
            ]
          },
          "metadata": {},
          "execution_count": 14
        }
      ]
    },
    {
      "cell_type": "code",
      "source": [
        "X.shape"
      ],
      "metadata": {
        "id": "tLq0ImenvOoI",
        "colab": {
          "base_uri": "https://localhost:8080/"
        },
        "outputId": "975dce99-8f08-436c-9b4f-ddd95ca594d7"
      },
      "execution_count": null,
      "outputs": [
        {
          "output_type": "execute_result",
          "data": {
            "text/plain": [
              "(1004, 224, 224)"
            ]
          },
          "metadata": {},
          "execution_count": 15
        }
      ]
    },
    {
      "cell_type": "code",
      "source": [
        "X = X.reshape(-1, 224, 224, 1)"
      ],
      "metadata": {
        "id": "iAhnSArWvOqb"
      },
      "execution_count": null,
      "outputs": []
    },
    {
      "cell_type": "code",
      "source": [
        "X.shape"
      ],
      "metadata": {
        "id": "Eu7q8NKZvOuk",
        "colab": {
          "base_uri": "https://localhost:8080/"
        },
        "outputId": "2d16bf73-281c-479f-aa5a-8eed52503eee"
      },
      "execution_count": null,
      "outputs": [
        {
          "output_type": "execute_result",
          "data": {
            "text/plain": [
              "(1004, 224, 224, 1)"
            ]
          },
          "metadata": {},
          "execution_count": 17
        }
      ]
    },
    {
      "cell_type": "code",
      "source": [
        "from keras.models import Sequential\n",
        "from keras.layers import Conv2D, MaxPooling2D, Dense, Flatten"
      ],
      "metadata": {
        "id": "UQY4Rh4Cvey3"
      },
      "execution_count": null,
      "outputs": []
    },
    {
      "cell_type": "code",
      "source": [
        "# Initialising the CNN\n",
        "model = Sequential()"
      ],
      "metadata": {
        "id": "NY6kHgFDve14"
      },
      "execution_count": null,
      "outputs": []
    },
    {
      "cell_type": "code",
      "source": [
        "# Step 1 - Convolution\n",
        "model.add(Conv2D(64,(3,3), activation='relu'))\n",
        "# Step 2 - Pooling\n",
        "model.add(MaxPooling2D((2,2)))\n",
        "\n",
        "# Adding a second convolutional layer\n",
        "model.add(Conv2D(64,(3,3), activation='relu'))\n",
        "model.add(MaxPooling2D((2,2)))\n",
        "\n",
        "# Step 3 - Flattening\n",
        "model.add(Flatten())\n",
        "\n",
        "# Step 4 - Full Connection\n",
        "model.add(Dense(128, input_shape = X.shape[1:], activation = 'relu'))\n",
        "\n",
        "# Step 5 - Output Layer\n",
        "model.add(Dense(2, activation= 'sigmoid'))"
      ],
      "metadata": {
        "id": "YGQUjXlave_T"
      },
      "execution_count": null,
      "outputs": []
    },
    {
      "cell_type": "code",
      "source": [
        "# Compiling the CNN\n",
        "model.compile(optimizer = 'adam', loss='sparse_categorical_crossentropy', metrics = ['accuracy'])\n"
      ],
      "metadata": {
        "id": "v50xcMxWvfCh"
      },
      "execution_count": null,
      "outputs": []
    },
    {
      "cell_type": "code",
      "source": [
        "model.fit(X, y, epochs=10, validation_split=0.2)"
      ],
      "metadata": {
        "colab": {
          "base_uri": "https://localhost:8080/"
        },
        "id": "6O-5YLmLvfFH",
        "outputId": "f9e71d6f-7289-4aa9-97b4-c71d71791458"
      },
      "execution_count": null,
      "outputs": [
        {
          "output_type": "stream",
          "name": "stdout",
          "text": [
            "Epoch 1/10\n",
            "26/26 [==============================] - 65s 2s/step - loss: 1.1536 - accuracy: 0.6513 - val_loss: 0.6013 - val_accuracy: 0.7313\n",
            "Epoch 2/10\n",
            "26/26 [==============================] - 66s 3s/step - loss: 0.5247 - accuracy: 0.7410 - val_loss: 0.4005 - val_accuracy: 0.7960\n",
            "Epoch 3/10\n",
            "26/26 [==============================] - 66s 3s/step - loss: 0.3344 - accuracy: 0.8543 - val_loss: 0.2423 - val_accuracy: 0.9154\n",
            "Epoch 4/10\n",
            "26/26 [==============================] - 64s 2s/step - loss: 0.1660 - accuracy: 0.9402 - val_loss: 0.1694 - val_accuracy: 0.9303\n",
            "Epoch 5/10\n",
            "26/26 [==============================] - 64s 2s/step - loss: 0.0876 - accuracy: 0.9726 - val_loss: 0.1223 - val_accuracy: 0.9403\n",
            "Epoch 6/10\n",
            "26/26 [==============================] - 64s 2s/step - loss: 0.0479 - accuracy: 0.9900 - val_loss: 0.1046 - val_accuracy: 0.9602\n",
            "Epoch 7/10\n",
            "26/26 [==============================] - 64s 2s/step - loss: 0.0214 - accuracy: 0.9975 - val_loss: 0.0829 - val_accuracy: 0.9751\n",
            "Epoch 8/10\n",
            "26/26 [==============================] - 70s 3s/step - loss: 0.0099 - accuracy: 0.9988 - val_loss: 0.0810 - val_accuracy: 0.9801\n",
            "Epoch 9/10\n",
            "26/26 [==============================] - 65s 2s/step - loss: 0.0054 - accuracy: 1.0000 - val_loss: 0.0761 - val_accuracy: 0.9801\n",
            "Epoch 10/10\n",
            "19/26 [====================>.........] - ETA: 17s - loss: 0.0077 - accuracy: 0.9967"
          ]
        }
      ]
    },
    {
      "cell_type": "code",
      "source": [
        "scores = model.evaluate(X,y,verbose=0)\n",
        "print(\"Accuracy: %.2f%%\" % (scores[1]*100))\n",
        "#to know accuracy of model"
      ],
      "metadata": {
        "colab": {
          "base_uri": "https://localhost:8080/"
        },
        "id": "OJzlSBdVvfHg",
        "outputId": "c00e7280-768e-42d3-8edd-00b4840a85bf"
      },
      "execution_count": null,
      "outputs": [
        {
          "output_type": "stream",
          "name": "stdout",
          "text": [
            "Accuracy: 99.30%\n"
          ]
        }
      ]
    },
    {
      "cell_type": "code",
      "source": [
        "X.shape"
      ],
      "metadata": {
        "colab": {
          "base_uri": "https://localhost:8080/"
        },
        "id": "oY7VUjvxvfKD",
        "outputId": "1dff0374-4940-4d92-c694-17c3c55c4e28"
      },
      "execution_count": null,
      "outputs": [
        {
          "output_type": "execute_result",
          "data": {
            "text/plain": [
              "(1004, 224, 224, 1)"
            ]
          },
          "metadata": {},
          "execution_count": 27
        }
      ]
    },
    {
      "cell_type": "code",
      "source": [
        "model.save('cnn.model',save_format='h5')\n",
        "#to save the model"
      ],
      "metadata": {
        "id": "usmuoZwpwBxE"
      },
      "execution_count": null,
      "outputs": []
    },
    {
      "cell_type": "markdown",
      "source": [
        "# **Prediction**"
      ],
      "metadata": {
        "id": "NDFh53D4T7K7"
      }
    },
    {
      "cell_type": "code",
      "source": [
        "import numpy as np\n",
        "import cv2\n",
        "import keras"
      ],
      "metadata": {
        "id": "fka4f2iBwTph"
      },
      "execution_count": null,
      "outputs": []
    },
    {
      "cell_type": "code",
      "source": [
        "CATEGORIES = ['mammooty', 'mohanlal']\n",
        "\n",
        "\n",
        "def image(path):\n",
        "    img = cv.imread(path, cv.IMREAD_GRAYSCALE)\n",
        "    new_arr = cv.resize(img, (224, 224))\n",
        "    new_arr = np.array(new_arr)\n",
        "    new_arr = new_arr.reshape(-1, 224,224, 1)\n",
        "    return new_arr\n",
        "#preprocessing the user input"
      ],
      "metadata": {
        "id": "Z8Dt4HlbwTt5"
      },
      "execution_count": null,
      "outputs": []
    },
    {
      "cell_type": "code",
      "source": [
        "model = keras.models.load_model('cnn.model')"
      ],
      "metadata": {
        "id": "-NRkdreswTxH"
      },
      "execution_count": null,
      "outputs": []
    },
    {
      "cell_type": "code",
      "source": [
        "result = model.predict([image('/content/drive/MyDrive/dataset/mammooty/mammooty132.png')])\n",
        "if result[0][0] == 1:\n",
        "    prediction = 'mamooty'\n",
        "elif result[0][0] == 0:\n",
        "    prediction = 'mohanlal'\n",
        "else:\n",
        "    prediction = 'I dont know this guy!'\n",
        "print(prediction)"
      ],
      "metadata": {
        "id": "IfjNZzIgTOQU",
        "colab": {
          "base_uri": "https://localhost:8080/"
        },
        "outputId": "41034e98-1976-4273-abe8-a0a70c9bc9bc"
      },
      "execution_count": null,
      "outputs": [
        {
          "output_type": "stream",
          "name": "stdout",
          "text": [
            "1/1 [==============================] - 0s 190ms/step\n",
            "mamooty\n"
          ]
        }
      ]
    },
    {
      "cell_type": "code",
      "source": [],
      "metadata": {
        "id": "5nt-1nnvTOWn"
      },
      "execution_count": null,
      "outputs": []
    },
    {
      "cell_type": "code",
      "source": [],
      "metadata": {
        "id": "cCt089ZoTOZ9"
      },
      "execution_count": null,
      "outputs": []
    },
    {
      "cell_type": "code",
      "source": [],
      "metadata": {
        "id": "udBon9RqTOhW"
      },
      "execution_count": null,
      "outputs": []
    }
  ]
}